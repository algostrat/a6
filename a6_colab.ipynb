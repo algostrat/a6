{
  "nbformat": 4,
  "nbformat_minor": 5,
  "metadata": {
    "kernelspec": {
      "display_name": "Python 3",
      "language": "python",
      "name": "python3"
    },
    "language_info": {
      "codemirror_mode": {
        "name": "ipython",
        "version": 3
      },
      "file_extension": ".py",
      "mimetype": "text/x-python",
      "name": "python",
      "nbconvert_exporter": "python",
      "pygments_lexer": "ipython3",
      "version": "3.8.8"
    },
    "colab": {
      "name": "a6.ipynb",
      "provenance": [],
      "collapsed_sections": [],
      "include_colab_link": true
    }
  },
  "cells": [
    {
      "cell_type": "markdown",
      "metadata": {
        "id": "view-in-github",
        "colab_type": "text"
      },
      "source": [
        "<a href=\"https://colab.research.google.com/github/algostrat/a6/blob/main/a6_colab.ipynb\" target=\"_parent\"><img src=\"https://colab.research.google.com/assets/colab-badge.svg\" alt=\"Open In Colab\"/></a>"
      ]
    },
    {
      "cell_type": "markdown",
      "metadata": {
        "id": "3f1f1ea5"
      },
      "source": [
        "\n",
        "\n",
        "\n",
        "\n",
        "> # ***Assignment 6***\n",
        "\n",
        "_______________________________________________________________________________________________________________________________\n",
        "####**Team Members:**\n",
        "Ryan Wahler , Sean Ciser , Kelly Navarro Zambrano.\n",
        "####**Date:**\n",
        "July 12th, 2021\n",
        "####**Course:**\n",
        "Python Programming  COP4045\n",
        "_______________________________________________________________________________________________________________________________"
      ],
      "id": "3f1f1ea5"
    },
    {
      "cell_type": "markdown",
      "metadata": {
        "id": "cD2wuOAkRpPM"
      },
      "source": [
        "The following prompts you to upload the iris.csv file from your local machine. The file name must be called 'iris.csv'. The raw file can be found here https://gist.githubusercontent.com/algostrat/83fa0e3f7af0b5debf2138ad88cfeb65/raw/626e0a780bad37d85a6f98672276f7d7547f1aef/iris.csv"
      ],
      "id": "cD2wuOAkRpPM"
    },
    {
      "cell_type": "code",
      "metadata": {
        "colab": {
          "resources": {
            "http://localhost:8080/nbextensions/google.colab/files.js": {
              "data": "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",
              "ok": true,
              "headers": [
                [
                  "content-type",
                  "application/javascript"
                ]
              ],
              "status": 200,
              "status_text": ""
            }
          },
          "base_uri": "https://localhost:8080/",
          "height": 123
        },
        "id": "3SkwG_1FIG_m",
        "outputId": "2cc2d363-73b2-436d-a6a8-c989ddc0764a"
      },
      "source": [
        "from google.colab import files\n",
        "print(\"\\nUpload iris.csv file from your local machine:\\n\")\n",
        "uploaded = files.upload()"
      ],
      "id": "3SkwG_1FIG_m",
      "execution_count": null,
      "outputs": [
        {
          "output_type": "stream",
          "text": [
            "\n",
            "Upload iris.csv file from your local machine:\n",
            "\n"
          ],
          "name": "stdout"
        },
        {
          "output_type": "display_data",
          "data": {
            "text/html": [
              "\n",
              "     <input type=\"file\" id=\"files-85397488-6024-4188-9b50-fde4ce676a63\" name=\"files[]\" multiple disabled\n",
              "        style=\"border:none\" />\n",
              "     <output id=\"result-85397488-6024-4188-9b50-fde4ce676a63\">\n",
              "      Upload widget is only available when the cell has been executed in the\n",
              "      current browser session. Please rerun this cell to enable.\n",
              "      </output>\n",
              "      <script src=\"/nbextensions/google.colab/files.js\"></script> "
            ],
            "text/plain": [
              "<IPython.core.display.HTML object>"
            ]
          },
          "metadata": {
            "tags": []
          }
        },
        {
          "output_type": "stream",
          "text": [
            "Saving iris.csv to iris.csv\n"
          ],
          "name": "stdout"
        }
      ]
    },
    {
      "cell_type": "markdown",
      "metadata": {
        "id": "de04ae06"
      },
      "source": [
        "##**PART 2**\n"
      ],
      "id": "de04ae06"
    },
    {
      "cell_type": "markdown",
      "metadata": {
        "id": "62dce904"
      },
      "source": [
        "Below we are getting the data from iris.csv file and creating a dictionary of dictionaries of lists and calling it 'df'. The outer most keys are the flower species and the \"inner\" keys are the attributes where the values are lists for each observation in order. For example, accessing the sepal length of the 5th observed setosa flower would be accessed by `df['setosa']['sepal_length'][4]`"
      ],
      "id": "62dce904"
    },
    {
      "cell_type": "markdown",
      "metadata": {
        "id": "33ef9fbd"
      },
      "source": [
        "The data gathering is wrapped in a function called get_data. The file name must be be the correct name and data, called iris.csv. No assertion or checking is performed."
      ],
      "id": "33ef9fbd"
    },
    {
      "cell_type": "code",
      "metadata": {
        "id": "98f9e605"
      },
      "source": [
        "import csv\n",
        "from copy import deepcopy # required when trying to deepcopy a dict with nest lists\n",
        "\n",
        "\n",
        "def get_data():\n",
        "    \n",
        "    file = 'iris.csv'\n",
        "    \n",
        "    #Attributes dictionary\n",
        "    attributes = {'sepal_length':[],'sepal_width':[],'petal_length':[],'petal_width':[]}\n",
        "    df = {'setosa':deepcopy(attributes),'versicolor':deepcopy(attributes),'virginica':deepcopy(attributes)}\n",
        "\n",
        "    with open(file, 'r') as csv_file:\n",
        "        \n",
        "        reader = csv.reader(csv_file)\n",
        "        next(reader)\n",
        "        \n",
        "        for row in reader:\n",
        "            try:\n",
        "                # get the values to df\n",
        "                #df[species][in'sepal_length','sepal_width','petal_length',or 'petal_width']\n",
        "                df[row[4]]['sepal_length'].append(float(row[0]))\n",
        "                df[row[4]]['sepal_width'].append(float(row[1]))\n",
        "                df[row[4]]['petal_length'].append(float(row[2]))\n",
        "                df[row[4]]['petal_width'].append(float(row[3]))\n",
        "            except:\n",
        "                print(\"error\")      \n",
        "    return df\n",
        "\n",
        "df = get_data()"
      ],
      "id": "98f9e605",
      "execution_count": 9,
      "outputs": []
    },
    {
      "cell_type": "markdown",
      "metadata": {
        "id": "1bad6bcc"
      },
      "source": [
        "This portion will calculates summary statistics across all species together. For instance, the average for sepal length will be the average across all species. The following cell will calculate minimum, maximum, mean, and standard deviation of each attribute. List comprehensions were used to keep the code \"pythonic\" and short. The data structure for the summary statistics is composed as follows, a dictionary with summary statistics as the keys and each value another dictionary for each attribute. Thus there are 5 statistics, 4 attributes, and 5*4 = 20 individual statistics. Deep copy is used again because this function is capable of creating deep copies of nested dictionaries. \n",
        "\n",
        "\n"
      ],
      "id": "1bad6bcc"
    },
    {
      "cell_type": "code",
      "metadata": {
        "id": "1d2784b5"
      },
      "source": [
        "from copy import deepcopy # required when trying to deepcopy a dict with nest lists\n",
        "from math import sqrt\n",
        "\n",
        "def get_stats(df):\n",
        "    attributes = {'sepal_length':0,'sepal_width':0,'petal_length':0,'petal_width':0}\n",
        "    stats = {'count':deepcopy(attributes), 'mean':deepcopy(attributes), 'std':deepcopy(attributes), 'min':deepcopy(attributes), 'max':deepcopy(attributes), 'sum':deepcopy(attributes)}\n",
        "    df2 = stats\n",
        "\n",
        "    for attribute in attributes:\n",
        "        # calculate count\n",
        "        df2['count'][attribute] = sum(len(df[flower][attribute]) for flower in df.keys())\n",
        "\n",
        "        # calculate mean, used for other stuff below\n",
        "        df2['mean'][attribute] = round(sum([sum([df[flower][attribute][i] for i in range(len(df[flower][attribute]))]) for flower in df.keys()])/df2['count'][attribute],4)\n",
        "\n",
        "        # calculate std\n",
        "        df2['std'][attribute] = round(sqrt(sum([sum([(df[flower][attribute][i] - df2['mean'][attribute])**2 for i in range(len(df[flower][attribute]))]) for flower in df.keys()])/(df2['count'][attribute] - 1)),4)\n",
        "\n",
        "        # calucalate min\n",
        "        df2['min'][attribute] = min([min([df[flower][attribute][i] for i in range(len(df[flower][attribute]))]) for flower in df.keys()])\n",
        "\n",
        "        # calculate max\n",
        "        df2['max'][attribute] = max([max([df[flower][attribute][i] for i in range(len(df[flower][attribute]))]) for flower in df.keys()])\n",
        "\n",
        "        # calculate sum for the hell of it\n",
        "        df2['sum'][attribute] = round(sum([sum([df[flower][attribute][i] for i in range(len(df[flower][attribute]))]) for flower in df.keys()]),4)\n",
        "    return df2\n",
        "\n",
        "df_stats = get_stats(df)"
      ],
      "id": "1d2784b5",
      "execution_count": 10,
      "outputs": []
    },
    {
      "cell_type": "markdown",
      "metadata": {
        "id": "97d8fd84"
      },
      "source": [
        "This portion below pretty prints the calculated stats for each species in a \"tabular\" format."
      ],
      "id": "97d8fd84"
    },
    {
      "cell_type": "code",
      "metadata": {
        "id": "b30f7e74",
        "colab": {
          "base_uri": "https://localhost:8080/"
        },
        "outputId": "d85835ea-e5cc-4798-f50f-b1ac0dd3f7a9"
      },
      "source": [
        "def pretty_print(df):\n",
        "    \n",
        "    print('\\t'.join(['\\tsepal_length','sepal_width','petal_length','petal_width']))\n",
        "    print(\"=\"*70)\n",
        "    \n",
        "    for stat in df:\n",
        "    \n",
        "        print(stat,'\\t',end=\"\")\n",
        "        for attribute in df[stat]:\n",
        "            print(df[stat][attribute], end='\\t\\t')\n",
        "        print()\n",
        "        \n",
        "pretty_print(df_stats)"
      ],
      "id": "b30f7e74",
      "execution_count": 11,
      "outputs": [
        {
          "output_type": "stream",
          "text": [
            "\tsepal_length\tsepal_width\tpetal_length\tpetal_width\n",
            "======================================================================\n",
            "count \t150\t\t150\t\t150\t\t150\t\t\n",
            "mean \t5.8433\t\t3.054\t\t3.7587\t\t1.1987\t\t\n",
            "std \t0.8281\t\t0.4336\t\t1.7644\t\t0.7632\t\t\n",
            "min \t4.3\t\t2.0\t\t1.0\t\t0.1\t\t\n",
            "max \t7.9\t\t4.4\t\t6.9\t\t2.5\t\t\n",
            "sum \t876.5\t\t458.1\t\t563.8\t\t179.8\t\t\n"
          ],
          "name": "stdout"
        }
      ]
    },
    {
      "cell_type": "markdown",
      "metadata": {
        "id": "e77174e9"
      },
      "source": [
        "## **PART 3**"
      ],
      "id": "e77174e9"
    },
    {
      "cell_type": "markdown",
      "metadata": {
        "id": "c8f332cc"
      },
      "source": [
        "Plotting meaningful scatter plots of the iris dataset."
      ],
      "id": "c8f332cc"
    },
    {
      "cell_type": "code",
      "metadata": {
        "id": "f71eabf4"
      },
      "source": [
        "import matplotlib.pyplot as plt\n",
        "\n",
        "def plot(df, xattribute, yattribute):\n",
        "    \n",
        "    fig = plt.figure(figsize = (8,8))\n",
        "    ax = fig.add_subplot(1,1,1) \n",
        "    \n",
        "    #labels\n",
        "    ax.set_xlabel(xattribute, fontsize = 15)\n",
        "    ax.set_ylabel(yattribute, fontsize = 15)\n",
        "    ax.set_title('Iris dataset', fontsize = 20)\n",
        "    \n",
        "    flowers = ['Iris-setosa', 'Iris-versicolor', 'Iris-virginica']\n",
        "    flowers1 = ['setosa', 'versicolor', 'virginica']\n",
        "    colors = ['r', 'g', 'b']\n",
        "    \n",
        "    \n",
        "    #scatter points (s is the marker size) \n",
        "    for flower, color in zip(flowers1,colors):\n",
        "        \n",
        "        ax.scatter(df[flower][xattribute]\n",
        "                   , df[flower][yattribute]\n",
        "                   , c = color\n",
        "                   , s = 50)\n",
        "    ax.legend(flowers)\n",
        "    ax.grid()"
      ],
      "id": "f71eabf4",
      "execution_count": null,
      "outputs": []
    },
    {
      "cell_type": "markdown",
      "metadata": {
        "id": "67d36e33"
      },
      "source": [
        "This portion below will call the plot function made above to plot sepal_width vs. sepal_length"
      ],
      "id": "67d36e33"
    },
    {
      "cell_type": "code",
      "metadata": {
        "id": "fdf596a4",
        "colab": {
          "base_uri": "https://localhost:8080/",
          "height": 524
        },
        "outputId": "5aebc40a-dcb6-4efa-bb5b-07ec9b8377d1"
      },
      "source": [
        "plot(df, xattribute = 'sepal_length', yattribute = 'sepal_width')"
      ],
      "id": "fdf596a4",
      "execution_count": null,
      "outputs": [
        {
          "output_type": "display_data",
          "data": {
            "image/png": "[encoded data removed]",
            "text/plain": [
              "<Figure size 576x576 with 1 Axes>"
            ]
          },
          "metadata": {
            "tags": []
          }
        }
      ]
    },
    {
      "cell_type": "markdown",
      "metadata": {
        "id": "c8e2c19b"
      },
      "source": [
        "This portion below will call the plot function made above to plot petal_length vs. petal_width"
      ],
      "id": "c8e2c19b"
    },
    {
      "cell_type": "code",
      "metadata": {
        "id": "8866008f",
        "colab": {
          "base_uri": "https://localhost:8080/",
          "height": 524
        },
        "outputId": "9c49f2bd-7950-4173-883b-1651dd614e83"
      },
      "source": [
        "plot(df, xattribute = 'petal_width', yattribute = 'petal_length')"
      ],
      "id": "8866008f",
      "execution_count": null,
      "outputs": [
        {
          "output_type": "display_data",
          "data": {
            "image/png": "[encoded data removed]",
            "text/plain": [
              "<Figure size 576x576 with 1 Axes>"
            ]
          },
          "metadata": {
            "tags": []
          }
        }
      ]
    },
    {
      "cell_type": "markdown",
      "metadata": {
        "id": "007197c7"
      },
      "source": [
        "## **PART 4**"
      ],
      "id": "007197c7"
    },
    {
      "cell_type": "markdown",
      "metadata": {
        "id": "ed84f713"
      },
      "source": [
        "Normalizing data by limiting the range of each feature to the 0 to 1 interval. We wrap the normalization within a function called `func` within another function called `normalize` and pass the the min and max values to it in order to caluclate the normalized value. The min and max are taken from the summary stats data structure from above. The outer function `normalize` returns a new data frame which is of the same structure as the data object we first create. This is important in order to be able to pass into the summaray statistics and pretty print functions above. "
      ],
      "id": "ed84f713"
    },
    {
      "cell_type": "code",
      "metadata": {
        "id": "497d034e",
        "colab": {
          "base_uri": "https://localhost:8080/"
        },
        "outputId": "1e268b96-6549-46fe-d399-9e2ba2b1824d"
      },
      "source": [
        "def normalize(df):\n",
        "    \n",
        "    df_stats = get_stats(df)\n",
        "    \n",
        "    def func(x, mx, mn):\n",
        "        #Normalizing Formula (X-Xmin)/(Xmax-Xmin)\n",
        "        return round((x - mn)/(mx - mn),4)\n",
        "    \n",
        "    df2 = deepcopy(df)\n",
        "    \n",
        "    for flower in df2:\n",
        "        for attribute in df2[flower]:\n",
        "            \n",
        "            #Get current[species/flower][attribute] min and max values\n",
        "            mn = df_stats['min'][attribute]\n",
        "            mx = df_stats['max'][attribute]\n",
        "            \n",
        "            #store the new normalize value in df2\n",
        "            df2[flower][attribute] = [func(x,mx,mn) for x in df[flower][attribute]]\n",
        "\n",
        "    return df2\n",
        "\n",
        "\n",
        "#Normalize\n",
        "df_norm = normalize(df)\n",
        "\n",
        "#Normalize stats\n",
        "df_norm_stats =  get_stats(df_norm)\n",
        "\n",
        "#Print normalize stats\n",
        "pretty_print(df_norm_stats)\n",
        "\n",
        "\n",
        "\n",
        "#plot(df_norm, xattribute = 'sepal_length', yattribute = 'sepal_width')\n",
        "#plot(df_norm, xattribute = 'petal_width', yattribute = 'petal_length')"
      ],
      "id": "497d034e",
      "execution_count": null,
      "outputs": [
        {
          "output_type": "stream",
          "text": [
            "\tsepal_length\tsepal_width\tpetal_length\tpetal_width\n",
            "======================================================================\n",
            "count \t150\t\t150\t\t150\t\t150\t\t\n",
            "mean \t0.4287\t\t0.4392\t\t0.4676\t\t0.4578\t\t\n",
            "std \t0.23\t\t0.1807\t\t0.2991\t\t0.318\t\t\n",
            "min \t0.0\t\t0.0\t\t0.0\t\t0.0\t\t\n",
            "max \t1.0\t\t1.0\t\t1.0\t\t1.0\t\t\n",
            "sum \t64.3054\t\t65.8749\t\t70.1349\t\t68.667\t\t\n"
          ],
          "name": "stdout"
        }
      ]
    },
    {
      "cell_type": "markdown",
      "metadata": {
        "id": "a2a3b2bd"
      },
      "source": [
        "## **PART 5**\n",
        "### Bonus Optional"
      ],
      "id": "a2a3b2bd"
    },
    {
      "cell_type": "markdown",
      "metadata": {
        "id": "6f4a97df"
      },
      "source": [
        "Plotting Histograms for features and their correlation. Here we use seaborn's load_dataset function to load in the already existant and popular iris data in order to pairs plot the features amongst each other. "
      ],
      "id": "6f4a97df"
    },
    {
      "cell_type": "code",
      "metadata": {
        "id": "4328038f"
      },
      "source": [
        "import seaborn as sb\n",
        "\n",
        "#Data frame\n",
        "dftab = sb.load_dataset(\"iris\")\n",
        "sb.set_style(\"ticks\")\n",
        "\n",
        "sb.pairplot(dftab, hue='species', diag_kind=\"auto\", kind =\"scatter\", palette=\"husl\")\n",
        "plt.show()"
      ],
      "id": "4328038f",
      "execution_count": null,
      "outputs": []
    },
    {
      "cell_type": "markdown",
      "metadata": {
        "id": "5b0e2919"
      },
      "source": [
        "#### **Conclusion from plot:**"
      ],
      "id": "5b0e2919"
    },
    {
      "cell_type": "markdown",
      "metadata": {
        "id": "0dbc5882"
      },
      "source": [
        "From the above pairs plot it looks as if petal width and petal length are the most linearly separable amongst the different species. These make them the best to use in a decision tree classifier upon selecting proper thresholds. For petal length the best thresholds seem to be around 2.2 and 4.5 and for petal width, 0.8 and 1.8."
      ],
      "id": "0dbc5882"
    },
    {
      "cell_type": "markdown",
      "metadata": {
        "id": "048fe313"
      },
      "source": [
        "## **PART 6**"
      ],
      "id": "048fe313"
    },
    {
      "cell_type": "markdown",
      "metadata": {
        "id": "80ad8353"
      },
      "source": [
        "Below we are using the petal length and petal width as attributes building a decision tree classifier"
      ],
      "id": "80ad8353"
    },
    {
      "cell_type": "code",
      "metadata": {
        "id": "f3ccee04"
      },
      "source": [
        "def model(petal_length, petal_width):\n",
        "    species = ''\n",
        "    \n",
        "    #Setosa\n",
        "    if petal_length < 2.2:\n",
        "        species = 'setosa'\n",
        "    \n",
        "    #versicolor or virginica\n",
        "    elif 2.2 <= petal_length:\n",
        "        if petal_length < 6:\n",
        "            if 0.8 < petal_width < 1.6:\n",
        "                species = 'versicolor'\n",
        "            if 1.6 < petal_width < 3:\n",
        "                species = 'virginica'        \n",
        "        else:\n",
        "            species = 'virginica'\n",
        "    #Virginica        \n",
        "    else:\n",
        "        species = 'virginica'\n",
        "        \n",
        "    return species\n",
        "\n",
        "\n",
        "\n",
        "\n",
        "file = 'iris.csv'\n",
        "correct = 0\n",
        "\n",
        "\n",
        "with open(file, 'r') as csv_file:\n",
        "    reader = csv.reader(csv_file)\n",
        "    next(reader)\n",
        "\n",
        "    \n",
        "    for row in reader:\n",
        "        petal_length = float(row[2])\n",
        "        petal_width = float(row[3])\n",
        "        if model(petal_length, petal_width) == row[4]:\n",
        "            correct = correct + 1\n",
        "\n",
        "\n",
        "print('Accuracy for model:',correct/150)"
      ],
      "id": "f3ccee04",
      "execution_count": null,
      "outputs": []
    },
    {
      "cell_type": "markdown",
      "metadata": {
        "id": "5618ee0a"
      },
      "source": [
        "## **Project Notes**"
      ],
      "id": "5618ee0a"
    },
    {
      "cell_type": "markdown",
      "metadata": {
        "id": "bfaf647c"
      },
      "source": [
        "*   For \n",
        "\n",
        "\n",
        "*   For part 6, looking back at section 5 was quite useful in order to view the values needed when creating our if-elif-else statement. These values helped made decisions in our if-elif-else statement when building our decision tree classifier. \n",
        "The main if-elif-else statement use petal length to separated the first part for setosa (\"if petal_length < 2.2:\") , second part to identify either versicolor or virginica (\"elif 2.2 <= petal_length:\"), last part for virginica (\"else:\"). The middle part of the main statement used petal_width to differentiate between versicolor and virginica.\n",
        "\n",
        "\n"
      ],
      "id": "bfaf647c"
    },
    {
      "cell_type": "markdown",
      "metadata": {
        "id": "cad0d2c8"
      },
      "source": [
        "## **Conclusion** "
      ],
      "id": "cad0d2c8"
    },
    {
      "cell_type": "markdown",
      "metadata": {
        "id": "1edd3b9e"
      },
      "source": [
        "  This assignment helped some of us in the group get accustomed to jupyter notebook by using it for the first time others in the group have already been using jupyter notebook. It also helped introduce google collab.\n",
        "\n",
        "  In this assignment we used list, tuples, functions, dictionaries, csv files as in previous assignments but developed this knowledge much farther. We also included the use of deepcopy, dictionary of dictionaries, more calculations, and most importantly plot such as scatterplots and histograms.\n"
      ],
      "id": "1edd3b9e"
    },
    {
      "cell_type": "markdown",
      "metadata": {
        "id": "c7b84d4b"
      },
      "source": [
        "## **References** "
      ],
      "id": "c7b84d4b"
    },
    {
      "cell_type": "markdown",
      "metadata": {
        "id": "a22df89b"
      },
      "source": [
        "    “Pyplot Scatter - matplotlib.pyplot.scatter() in Python.\" GeeksforGeeks,\n",
        "        https://www.geeksforgeeks.org/matplotlib-pyplot-scatter-in-python/\n",
        "        \n",
        "     “Seaborn - Visualizing Pairwise Relationship.” Tutorialspoint,\n",
        "        www.tutorialspoint.com/seaborn/seaborn_visualizing_pairwise_relationship.htm. "
      ],
      "id": "a22df89b"
    }
  ]
}