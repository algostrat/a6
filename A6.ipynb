{
 "cells": [
  {
   "cell_type": "code",
   "execution_count": 4,
   "id": "cd984cfb-3d15-42a0-bd9f-80ae36a97d1c",
   "metadata": {},
   "outputs": [
    {
     "name": "stdout",
     "output_type": "stream",
     "text": [
      "50\n"
     ]
    }
   ],
   "source": [
    "import csv\n",
    "\n",
    "file = 'iris.csv'\n",
    "\n",
    "df = {'setosa':[],'versicolor':[],'virginica':[]}\n",
    "\n",
    "with open(file, 'r') as csv_file:\n",
    "    reader = csv.reader(csv_file)\n",
    "    next(reader)\n",
    "    for row in reader:\n",
    "        try:\n",
    "            if row[4]=='setosa':\n",
    "                df['setosa'].append([float(i) for i in row[0:4]])\n",
    "            if row[4]=='versicolor':\n",
    "                df['versicolor'].append([float(i) for i in row[0:4]])\n",
    "            if row[4]=='virginica':\n",
    "                df['virginica'].append([float(i) for i in row[0:4]])\n",
    "        except:\n",
    "            print(\"error\")\n",
    "            \n",
    "print(len(df['setosa']))"
   ]
  }
 ],
 "metadata": {
  "kernelspec": {
   "display_name": "Python 3",
   "language": "python",
   "name": "python3"
  },
  "language_info": {
   "codemirror_mode": {
    "name": "ipython",
    "version": 3
   },
   "file_extension": ".py",
   "mimetype": "text/x-python",
   "name": "python",
   "nbconvert_exporter": "python",
   "pygments_lexer": "ipython3",
   "version": "3.8.8"
  }
 },
 "nbformat": 4,
 "nbformat_minor": 5
}
