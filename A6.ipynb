{
 "cells": [
  {
   "cell_type": "code",
   "execution_count": 6,
   "id": "cd984cfb-3d15-42a0-bd9f-80ae36a97d1c",
   "metadata": {},
   "outputs": [],
   "source": [
    "import csv\n",
    "\n",
    "\n",
    "def get_data():\n",
    "    file = 'iris.csv'\n",
    "    df = {'setosa':[],'versicolor':[],'virginica':[]}\n",
    "\n",
    "    with open(file, 'r') as csv_file:\n",
    "        reader = csv.reader(csv_file)\n",
    "        next(reader)\n",
    "        for row in reader:\n",
    "            try:\n",
    "                if row[4]=='setosa':\n",
    "                    df['setosa'].append([float(i) for i in row[0:4]])\n",
    "                if row[4]=='versicolor':\n",
    "                    df['versicolor'].append([float(i) for i in row[0:4]])\n",
    "                if row[4]=='virginica':\n",
    "                    df['virginica'].append([float(i) for i in row[0:4]])\n",
    "            except:\n",
    "                print(\"error\")\n",
    "#     print(len(df['setosa']))\n",
    "    return df\n",
    "\n",
    "df = get_data()"
   ]
  },
  {
   "cell_type": "code",
   "execution_count": null,
   "id": "d3668e50-f437-4595-b431-361bfbc773c6",
   "metadata": {},
   "outputs": [],
   "source": []
  },
  {
   "cell_type": "code",
   "execution_count": 7,
   "id": "e9cf565f-7425-463e-989f-5958303d3317",
   "metadata": {},
   "outputs": [
    {
     "name": "stdout",
     "output_type": "stream",
     "text": [
      "{'setosa': ['5.01', '3.42', '1.46', '0.24'], 'versicolor': ['5.94', '2.77', '4.26', '1.33'], 'virginica': ['6.59', '2.97', '5.55', '2.03']}\n"
     ]
    }
   ],
   "source": [
    "def get_stats(df):\n",
    "    df2 = {'setosa':[],'versicolor':[],'virginica':[]}\n",
    "    for key in df2:\n",
    "        \n",
    "        #adding average for sepal_len\n",
    "        df2[key].append(round(sum(df[key][i][0] for i in range(len(df[key])))/50,2))\n",
    "        #adding average for sepal width\n",
    "        df2[key].append(round(sum(df[key][i][1] for i in range(len(df[key])))/50,2))\n",
    "        #adding average for petal length\n",
    "        df2[key].append(round(sum(df[key][i][2] for i in range(len(df[key])))/50,2))\n",
    "        #adding average for petal width\n",
    "        df2[key].append(round(sum(df[key][i][3] for i in range(len(df[key])))/50,2))\n",
    "    return {key:[str(i)for i in value] for key,value in df2.items()}\n",
    "\n",
    "        \n",
    "df_stats = get_stats(df)\n",
    "\n",
    "print(df_stats)"
   ]
  },
  {
   "cell_type": "markdown",
   "id": "1fbae95c-2898-4be1-801d-072f2e4697fb",
   "metadata": {},
   "source": [
    "Below is a a new datastructure that is a dictionary of dictionaries of lists where the list order 0:4 is count, mean, std, min, max"
   ]
  },
  {
   "cell_type": "code",
   "execution_count": null,
   "id": "700c40f7-da15-4305-bde1-ad71e5bf99ec",
   "metadata": {},
   "outputs": [],
   "source": [
    "import csv\n",
    "from copy import deepcopy # required when trying to deepcopy a dict with nest lists\n",
    "\n",
    "\n",
    "def get_data():\n",
    "    file = 'iris.csv'\n",
    "    attributes = {'sepal_length':[],'sepal_width':[],'petal_length':[],'petal_width':[]}\n",
    "    df = {'setosa':deepcopy(attributes),'versicolor':deepcopy(attributes),'virginica':deepcopy(attributes)}\n",
    "\n",
    "    with open(file, 'r') as csv_file:\n",
    "        reader = csv.reader(csv_file)\n",
    "        next(reader)\n",
    "        for row in reader:\n",
    "            try:\n",
    "                df[row[4]]['sepal_length'].append(float(row[0]))\n",
    "                df[row[4]]['sepal_width'].append(float(row[1]))\n",
    "                df[row[4]]['petal_length'].append(float(row[2]))\n",
    "                df[row[4]]['petal_width'].append(float(row[3]))\n",
    "            except:\n",
    "                print(\"error\")\n",
    "#     print(len(df['setosa']))\n",
    "    return df\n",
    "\n",
    "df = get_data()"
   ]
  },
  {
   "cell_type": "code",
   "execution_count": 131,
   "id": "a0b3c96d-4f98-4303-8505-fc07a96f317b",
   "metadata": {},
   "outputs": [],
   "source": [
    "from copy import deepcopy # required when trying to deepcopy a dict with nest lists\n",
    "from math import sqrt\n",
    "\n",
    "# def get_stats(df):\n",
    "stats = {'count':0, 'mean':0, 'std':0, 'min':0, 'max':0, 'sum':0}\n",
    "attributes = {'sepal_length':deepcopy(stats),'sepal_width':deepcopy(stats),'petal_length':deepcopy(stats),'petal_width':deepcopy(stats)}\n",
    "df2 = {'setosa':deepcopy(attributes),'versicolor':deepcopy(attributes),'virginica':deepcopy(attributes)}\n",
    "    \n",
    "for flower in df2:\n",
    "    for attribute in df2[flower]:\n",
    "        # calculate count\n",
    "        df2[flower][attribute]['count'] = len(df[flower][attribute]) \n",
    "        \n",
    "         # calculate mean, used for other stuff below\n",
    "        df2[flower][attribute]['sum'] = sum(df[flower][attribute])\n",
    "        \n",
    "        # calculate mean\n",
    "        df2[flower][attribute]['mean'] = df2[flower][attribute]['sum']/df2[flower][attribute]['count']\n",
    "        \n",
    "        # calculate std\n",
    "        mu = df2[flower][attribute]['mean'] # get the mean from above line so below line isnt so long\n",
    "        df2[flower][attribute]['std'] = sqrt(sum((df[flower][attribute][i] - mu)**2 for i in range(len(df[flower][attribute])))/len(df[flower][attribute]))\n",
    "        \n",
    "        # calculate min\n",
    "        df2[flower][attribute]['min'] = min(df[flower][attribute])\n",
    "        \n",
    "        # calculate max\n",
    "        df2[flower][attribute]['min'] = max(df[flower][attribute])\n"
   ]
  },
  {
   "cell_type": "code",
   "execution_count": 135,
   "id": "abe082ce-dec3-4514-b61d-d27a2151ed2c",
   "metadata": {},
   "outputs": [
    {
     "name": "stdout",
     "output_type": "stream",
     "text": [
      "Name\tGrade\tMath\tEnglish\tPhysics\tChemistry\n",
      "Eddy\t1\t78\t65\t89\t80\t\n",
      "Jim\t2\t89\t65\t87\t76\t\n",
      "Jane\t3\t87\t97\t75\t64\t\n"
     ]
    }
   ],
   "source": [
    "student = {\n",
    "    \"student1\": {\n",
    "        \"Name\": \"Eddy\",\n",
    "        \"Grade\": 1,\n",
    "        \"Math\": 78,\n",
    "        \"English\": 65,\n",
    "        \"Physics\": 89,\n",
    "        \"Chemistry\": 80\n",
    "    },\n",
    "    \"student2\": {\n",
    "        \"Name\": \"Jim\",\n",
    "        \"Grade\": 2,\n",
    "        \"Math\": 89,\n",
    "        \"English\": 65,\n",
    "        \"Physics\": 87,\n",
    "        \"Chemistry\": 76\n",
    "\n",
    "    },\n",
    "    \"student3\": {\n",
    "        \"Name\": \"Jane\",\n",
    "        \"Grade\": 3,\n",
    "        \"Math\": 87,\n",
    "        \"English\": 97,\n",
    "        \"Physics\": 75,\n",
    "        \"Chemistry\": 64\n",
    "\n",
    "    },\n",
    "}\n",
    "\n",
    "print('\\t'.join(['Name', 'Grade', 'Math', 'English', 'Physics', 'Chemistry']))\n",
    "for stud in student:\n",
    "    for topic in student[stud]:\n",
    "        print(student[stud][topic], end='\\t')\n",
    "    print()"
   ]
  }
 ],
 "metadata": {
  "kernelspec": {
   "display_name": "Python 3",
   "language": "python",
   "name": "python3"
  },
  "language_info": {
   "codemirror_mode": {
    "name": "ipython",
    "version": 3
   },
   "file_extension": ".py",
   "mimetype": "text/x-python",
   "name": "python",
   "nbconvert_exporter": "python",
   "pygments_lexer": "ipython3",
   "version": "3.8.8"
  }
 },
 "nbformat": 4,
 "nbformat_minor": 5
}
